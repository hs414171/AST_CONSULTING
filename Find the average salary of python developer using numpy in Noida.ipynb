{
 "cells": [
  {
   "cell_type": "code",
   "execution_count": 1,
   "id": "2c3b589b",
   "metadata": {},
   "outputs": [],
   "source": [
    "import pandas as pd\n",
    "import numpy as np"
   ]
  },
  {
   "cell_type": "code",
   "execution_count": 2,
   "id": "fcc3f56c",
   "metadata": {},
   "outputs": [],
   "source": [
    "df = pd.read_csv('cleaned_data.csv')"
   ]
  },
  {
   "cell_type": "code",
   "execution_count": 3,
   "id": "2ce5885c",
   "metadata": {},
   "outputs": [
    {
     "data": {
      "text/plain": [
       "37"
      ]
     },
     "execution_count": 3,
     "metadata": {},
     "output_type": "execute_result"
    }
   ],
   "source": [
    "df['title'] = df['title'].fillna('')\n",
    "python_developer_noida = df[(df['title'].str.contains('Python Developer', case=False)) & (df['city'] == 'Noida')]\n",
    "num_python_developers_noida = len(python_developer_noida)\n",
    "num_python_developers_noida"
   ]
  },
  {
   "cell_type": "code",
   "execution_count": 4,
   "id": "0df75579",
   "metadata": {},
   "outputs": [
    {
     "data": {
      "text/plain": [
       "52364.46666666667"
      ]
     },
     "execution_count": 4,
     "metadata": {},
     "output_type": "execute_result"
    }
   ],
   "source": [
    "import pandas as pd\n",
    "import numpy as np\n",
    "\n",
    "filtered_data = df[(df['title'].str.contains('Python Developer', case=False)) & (df['city'] == 'Noida')]\n",
    "filtered_data = filtered_data[filtered_data['salary_per_month'] != 'Not Available']\n",
    "filtered_data['salary_per_month'] = pd.to_numeric(filtered_data['salary_per_month'], errors='coerce')\n",
    "filtered_data = filtered_data.dropna(subset=['salary_per_month'])\n",
    "average_salary = np.mean(filtered_data['salary_per_month'])\n",
    "average_salary"
   ]
  },
  {
   "cell_type": "code",
   "execution_count": null,
   "id": "5666bb5f",
   "metadata": {},
   "outputs": [],
   "source": []
  }
 ],
 "metadata": {
  "kernelspec": {
   "display_name": "Python 3 (ipykernel)",
   "language": "python",
   "name": "python3"
  },
  "language_info": {
   "codemirror_mode": {
    "name": "ipython",
    "version": 3
   },
   "file_extension": ".py",
   "mimetype": "text/x-python",
   "name": "python",
   "nbconvert_exporter": "python",
   "pygments_lexer": "ipython3",
   "version": "3.11.5"
  }
 },
 "nbformat": 4,
 "nbformat_minor": 5
}
