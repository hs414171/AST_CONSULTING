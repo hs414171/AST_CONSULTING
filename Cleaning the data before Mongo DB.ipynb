{
 "cells": [
  {
   "cell_type": "code",
   "execution_count": 11,
   "id": "4362c4dc",
   "metadata": {},
   "outputs": [],
   "source": [
    "import pandas as pd\n",
    "import numpy as np\n",
    "import re"
   ]
  },
  {
   "cell_type": "code",
   "execution_count": 12,
   "id": "c36f0e63",
   "metadata": {},
   "outputs": [],
   "source": [
    "df = pd.read_csv('jobs_data_main.csv')"
   ]
  },
  {
   "cell_type": "code",
   "execution_count": 13,
   "id": "8b3f1548",
   "metadata": {},
   "outputs": [
    {
     "data": {
      "text/html": [
       "<div>\n",
       "<style scoped>\n",
       "    .dataframe tbody tr th:only-of-type {\n",
       "        vertical-align: middle;\n",
       "    }\n",
       "\n",
       "    .dataframe tbody tr th {\n",
       "        vertical-align: top;\n",
       "    }\n",
       "\n",
       "    .dataframe thead th {\n",
       "        text-align: right;\n",
       "    }\n",
       "</style>\n",
       "<table border=\"1\" class=\"dataframe\">\n",
       "  <thead>\n",
       "    <tr style=\"text-align: right;\">\n",
       "      <th></th>\n",
       "      <th>title</th>\n",
       "      <th>company</th>\n",
       "      <th>location</th>\n",
       "      <th>link</th>\n",
       "      <th>salary</th>\n",
       "    </tr>\n",
       "  </thead>\n",
       "  <tbody>\n",
       "    <tr>\n",
       "      <th>0</th>\n",
       "      <td>Open AI Developer | 4 to 10 years | PAN India</td>\n",
       "      <td>Capgemini Invent</td>\n",
       "      <td>Gurgaon, Haryana</td>\n",
       "      <td>https://in.indeed.com/rc/clk?jk=afe3d3380b0954...</td>\n",
       "      <td>Permanent</td>\n",
       "    </tr>\n",
       "    <tr>\n",
       "      <th>1</th>\n",
       "      <td>Software Analyst</td>\n",
       "      <td>Ericsson</td>\n",
       "      <td>NaN</td>\n",
       "      <td>https://in.indeed.com/rc/clk?jk=c484519856b3bc...</td>\n",
       "      <td>NaN</td>\n",
       "    </tr>\n",
       "    <tr>\n",
       "      <th>2</th>\n",
       "      <td>NaN</td>\n",
       "      <td>NaN</td>\n",
       "      <td>NaN</td>\n",
       "      <td>https://in.indeed.com/rc/clk?jk=59d694cd2d7ed5...</td>\n",
       "      <td>NaN</td>\n",
       "    </tr>\n",
       "    <tr>\n",
       "      <th>3</th>\n",
       "      <td>NaN</td>\n",
       "      <td>NaN</td>\n",
       "      <td>NaN</td>\n",
       "      <td>https://in.indeed.com/rc/clk?jk=8e5a11dbe5a1b8...</td>\n",
       "      <td>NaN</td>\n",
       "    </tr>\n",
       "    <tr>\n",
       "      <th>4</th>\n",
       "      <td>NaN</td>\n",
       "      <td>NaN</td>\n",
       "      <td>NaN</td>\n",
       "      <td>https://in.indeed.com/rc/clk?jk=3f778fe9289e05...</td>\n",
       "      <td>NaN</td>\n",
       "    </tr>\n",
       "  </tbody>\n",
       "</table>\n",
       "</div>"
      ],
      "text/plain": [
       "                                           title           company  \\\n",
       "0  Open AI Developer | 4 to 10 years | PAN India  Capgemini Invent   \n",
       "1                               Software Analyst          Ericsson   \n",
       "2                                            NaN               NaN   \n",
       "3                                            NaN               NaN   \n",
       "4                                            NaN               NaN   \n",
       "\n",
       "           location                                               link  \\\n",
       "0  Gurgaon, Haryana  https://in.indeed.com/rc/clk?jk=afe3d3380b0954...   \n",
       "1               NaN  https://in.indeed.com/rc/clk?jk=c484519856b3bc...   \n",
       "2               NaN  https://in.indeed.com/rc/clk?jk=59d694cd2d7ed5...   \n",
       "3               NaN  https://in.indeed.com/rc/clk?jk=8e5a11dbe5a1b8...   \n",
       "4               NaN  https://in.indeed.com/rc/clk?jk=3f778fe9289e05...   \n",
       "\n",
       "      salary  \n",
       "0  Permanent  \n",
       "1        NaN  \n",
       "2        NaN  \n",
       "3        NaN  \n",
       "4        NaN  "
      ]
     },
     "execution_count": 13,
     "metadata": {},
     "output_type": "execute_result"
    }
   ],
   "source": [
    "df.head()"
   ]
  },
  {
   "cell_type": "code",
   "execution_count": 14,
   "id": "1eec8540",
   "metadata": {},
   "outputs": [
    {
     "data": {
      "text/plain": [
       "title        13\n",
       "company      13\n",
       "location     14\n",
       "link          0\n",
       "salary      323\n",
       "dtype: int64"
      ]
     },
     "execution_count": 14,
     "metadata": {},
     "output_type": "execute_result"
    }
   ],
   "source": [
    "df.isnull().sum()"
   ]
  },
  {
   "cell_type": "code",
   "execution_count": 15,
   "id": "30d0523f",
   "metadata": {},
   "outputs": [],
   "source": [
    "df = df.dropna(subset=['title', 'company', 'location'])"
   ]
  },
  {
   "cell_type": "code",
   "execution_count": 16,
   "id": "c679feb9",
   "metadata": {},
   "outputs": [
    {
     "data": {
      "text/plain": [
       "(856, 5)"
      ]
     },
     "execution_count": 16,
     "metadata": {},
     "output_type": "execute_result"
    }
   ],
   "source": [
    "df.shape"
   ]
  },
  {
   "cell_type": "code",
   "execution_count": 17,
   "id": "634a338e",
   "metadata": {},
   "outputs": [],
   "source": [
    "salary = df['salary'].unique()"
   ]
  },
  {
   "cell_type": "code",
   "execution_count": 18,
   "id": "91d77172",
   "metadata": {},
   "outputs": [
    {
     "data": {
      "text/plain": [
       "array(['Permanent', '₹25 an hour', '₹30,00,000 - ₹45,00,000 a year', nan,\n",
       "       '₹50,000 - ₹80,000 a month', 'Up to ₹20,00,000 a year',\n",
       "       'Full-time', '₹20,00,000 - ₹30,00,000 a year',\n",
       "       '₹3,00,000 - ₹7,00,000 a year', '₹5,933.64 - ₹14,999.00 a month',\n",
       "       '₹35,000 - ₹50,000 a month', '₹3,48,822.94 - ₹14,25,666.38 a year',\n",
       "       '₹21,00,000 - ₹28,00,000 a year', '₹2,40,000 - ₹3,60,000 a year',\n",
       "       '₹70,000 - ₹80,000 a month', '₹9,00,000 - ₹11,00,000 a year',\n",
       "       '₹25,000 - ₹32,000 a month', '₹5,000 a month',\n",
       "       '₹4,93,653.72 - ₹10,49,221.13 a year', 'Fresher'], dtype=object)"
      ]
     },
     "execution_count": 18,
     "metadata": {},
     "output_type": "execute_result"
    }
   ],
   "source": [
    "salary[:20]"
   ]
  },
  {
   "cell_type": "code",
   "execution_count": 19,
   "id": "fdb380f8",
   "metadata": {},
   "outputs": [
    {
     "data": {
      "text/html": [
       "<div>\n",
       "<style scoped>\n",
       "    .dataframe tbody tr th:only-of-type {\n",
       "        vertical-align: middle;\n",
       "    }\n",
       "\n",
       "    .dataframe tbody tr th {\n",
       "        vertical-align: top;\n",
       "    }\n",
       "\n",
       "    .dataframe thead th {\n",
       "        text-align: right;\n",
       "    }\n",
       "</style>\n",
       "<table border=\"1\" class=\"dataframe\">\n",
       "  <thead>\n",
       "    <tr style=\"text-align: right;\">\n",
       "      <th></th>\n",
       "      <th>title</th>\n",
       "      <th>company</th>\n",
       "      <th>location</th>\n",
       "      <th>link</th>\n",
       "      <th>salary</th>\n",
       "      <th>salary_per_month</th>\n",
       "    </tr>\n",
       "  </thead>\n",
       "  <tbody>\n",
       "    <tr>\n",
       "      <th>0</th>\n",
       "      <td>Open AI Developer | 4 to 10 years | PAN India</td>\n",
       "      <td>Capgemini Invent</td>\n",
       "      <td>Gurgaon, Haryana</td>\n",
       "      <td>https://in.indeed.com/rc/clk?jk=afe3d3380b0954...</td>\n",
       "      <td>Permanent</td>\n",
       "      <td>NaN</td>\n",
       "    </tr>\n",
       "    <tr>\n",
       "      <th>15</th>\n",
       "      <td>Principal DevOps Engineer</td>\n",
       "      <td>Amplifi Capital</td>\n",
       "      <td>Noida, Uttar Pradesh</td>\n",
       "      <td>https://in.indeed.com/rc/clk?jk=4b54008f752a41...</td>\n",
       "      <td>₹25 an hour</td>\n",
       "      <td>NaN</td>\n",
       "    </tr>\n",
       "    <tr>\n",
       "      <th>16</th>\n",
       "      <td>Backend Engineer</td>\n",
       "      <td>iXceed Solutions</td>\n",
       "      <td>Gurgaon, Haryana</td>\n",
       "      <td>https://in.indeed.com/rc/clk?jk=1f1caebce60f4d...</td>\n",
       "      <td>₹30,00,000 - ₹45,00,000 a year</td>\n",
       "      <td>312500.0</td>\n",
       "    </tr>\n",
       "    <tr>\n",
       "      <th>17</th>\n",
       "      <td>IT Developer</td>\n",
       "      <td>Insight Enterprises</td>\n",
       "      <td>Gurgaon, Haryana</td>\n",
       "      <td>https://in.indeed.com/rc/clk?jk=96e9499cfcef11...</td>\n",
       "      <td>NaN</td>\n",
       "      <td>NaN</td>\n",
       "    </tr>\n",
       "    <tr>\n",
       "      <th>18</th>\n",
       "      <td>DevOps Engineer</td>\n",
       "      <td>Shaurya Infosoft PVT. LTD.</td>\n",
       "      <td>Noida, Uttar Pradesh</td>\n",
       "      <td>https://in.indeed.com/rc/clk?jk=e8507fe060ba57...</td>\n",
       "      <td>₹50,000 - ₹80,000 a month</td>\n",
       "      <td>65000.0</td>\n",
       "    </tr>\n",
       "    <tr>\n",
       "      <th>...</th>\n",
       "      <td>...</td>\n",
       "      <td>...</td>\n",
       "      <td>...</td>\n",
       "      <td>...</td>\n",
       "      <td>...</td>\n",
       "      <td>...</td>\n",
       "    </tr>\n",
       "    <tr>\n",
       "      <th>865</th>\n",
       "      <td>Backend Technical Lead</td>\n",
       "      <td>Squareboat</td>\n",
       "      <td>Gurgaon, Haryana</td>\n",
       "      <td>https://in.indeed.com/rc/clk?jk=a82946fd909b00...</td>\n",
       "      <td>Fixed shift</td>\n",
       "      <td>NaN</td>\n",
       "    </tr>\n",
       "    <tr>\n",
       "      <th>866</th>\n",
       "      <td>Full Stack Developer</td>\n",
       "      <td>SLA Consultants India</td>\n",
       "      <td>Delhi, Delhi</td>\n",
       "      <td>https://in.indeed.com/rc/clk?jk=03c7b68cc05cab...</td>\n",
       "      <td>NaN</td>\n",
       "      <td>NaN</td>\n",
       "    </tr>\n",
       "    <tr>\n",
       "      <th>867</th>\n",
       "      <td>Multimedia Firmware Developer</td>\n",
       "      <td>TerminalApps</td>\n",
       "      <td>Noida, Uttar Pradesh</td>\n",
       "      <td>https://in.indeed.com/rc/clk?jk=dd2cf80ed11eb1...</td>\n",
       "      <td>Permanent</td>\n",
       "      <td>NaN</td>\n",
       "    </tr>\n",
       "    <tr>\n",
       "      <th>868</th>\n",
       "      <td>Multimedia Firmware Developer</td>\n",
       "      <td>TerminalApps</td>\n",
       "      <td>Noida, Uttar Pradesh</td>\n",
       "      <td>https://in.indeed.com/rc/clk?jk=e277ec44e2b5c2...</td>\n",
       "      <td>Permanent</td>\n",
       "      <td>NaN</td>\n",
       "    </tr>\n",
       "    <tr>\n",
       "      <th>869</th>\n",
       "      <td>Full stack Developers</td>\n",
       "      <td>Brain Technosys</td>\n",
       "      <td>Noida, Uttar Pradesh</td>\n",
       "      <td>https://in.indeed.com/rc/clk?jk=e3055daa07e8dc...</td>\n",
       "      <td>NaN</td>\n",
       "      <td>NaN</td>\n",
       "    </tr>\n",
       "  </tbody>\n",
       "</table>\n",
       "<p>856 rows × 6 columns</p>\n",
       "</div>"
      ],
      "text/plain": [
       "                                             title  \\\n",
       "0    Open AI Developer | 4 to 10 years | PAN India   \n",
       "15                       Principal DevOps Engineer   \n",
       "16                                Backend Engineer   \n",
       "17                                    IT Developer   \n",
       "18                                 DevOps Engineer   \n",
       "..                                             ...   \n",
       "865                         Backend Technical Lead   \n",
       "866                           Full Stack Developer   \n",
       "867                  Multimedia Firmware Developer   \n",
       "868                  Multimedia Firmware Developer   \n",
       "869                          Full stack Developers   \n",
       "\n",
       "                        company              location  \\\n",
       "0              Capgemini Invent      Gurgaon, Haryana   \n",
       "15              Amplifi Capital  Noida, Uttar Pradesh   \n",
       "16             iXceed Solutions      Gurgaon, Haryana   \n",
       "17          Insight Enterprises      Gurgaon, Haryana   \n",
       "18   Shaurya Infosoft PVT. LTD.  Noida, Uttar Pradesh   \n",
       "..                          ...                   ...   \n",
       "865                  Squareboat      Gurgaon, Haryana   \n",
       "866       SLA Consultants India          Delhi, Delhi   \n",
       "867                TerminalApps  Noida, Uttar Pradesh   \n",
       "868                TerminalApps  Noida, Uttar Pradesh   \n",
       "869             Brain Technosys  Noida, Uttar Pradesh   \n",
       "\n",
       "                                                  link  \\\n",
       "0    https://in.indeed.com/rc/clk?jk=afe3d3380b0954...   \n",
       "15   https://in.indeed.com/rc/clk?jk=4b54008f752a41...   \n",
       "16   https://in.indeed.com/rc/clk?jk=1f1caebce60f4d...   \n",
       "17   https://in.indeed.com/rc/clk?jk=96e9499cfcef11...   \n",
       "18   https://in.indeed.com/rc/clk?jk=e8507fe060ba57...   \n",
       "..                                                 ...   \n",
       "865  https://in.indeed.com/rc/clk?jk=a82946fd909b00...   \n",
       "866  https://in.indeed.com/rc/clk?jk=03c7b68cc05cab...   \n",
       "867  https://in.indeed.com/rc/clk?jk=dd2cf80ed11eb1...   \n",
       "868  https://in.indeed.com/rc/clk?jk=e277ec44e2b5c2...   \n",
       "869  https://in.indeed.com/rc/clk?jk=e3055daa07e8dc...   \n",
       "\n",
       "                             salary  salary_per_month  \n",
       "0                         Permanent               NaN  \n",
       "15                      ₹25 an hour               NaN  \n",
       "16   ₹30,00,000 - ₹45,00,000 a year          312500.0  \n",
       "17                              NaN               NaN  \n",
       "18        ₹50,000 - ₹80,000 a month           65000.0  \n",
       "..                              ...               ...  \n",
       "865                     Fixed shift               NaN  \n",
       "866                             NaN               NaN  \n",
       "867                       Permanent               NaN  \n",
       "868                       Permanent               NaN  \n",
       "869                             NaN               NaN  \n",
       "\n",
       "[856 rows x 6 columns]"
      ]
     },
     "execution_count": 19,
     "metadata": {},
     "output_type": "execute_result"
    }
   ],
   "source": [
    "def convert_to_monthly(salary):\n",
    "    if isinstance(salary, str):\n",
    "        nums = re.findall(r'\\b\\d+\\.?\\d*\\b', salary.replace(',', ''))\n",
    "        nums = [float(num) for num in nums]\n",
    "\n",
    "        if 'year' in salary:\n",
    "            avg_salary = np.mean(nums) / 12\n",
    "        elif 'month' in salary:\n",
    "            avg_salary = np.mean(nums)\n",
    "        elif 'day' in salary:\n",
    "            avg_salary = np.mean(nums) * 5 * 4\n",
    "        else:\n",
    "            return np.nan\n",
    "    else:\n",
    "        return np.nan\n",
    "\n",
    "    return round(avg_salary)\n",
    "\n",
    "\n",
    "df['salary_per_month'] = df['salary'].apply(convert_to_monthly)\n",
    "df"
   ]
  },
  {
   "cell_type": "code",
   "execution_count": 20,
   "id": "48096e77",
   "metadata": {},
   "outputs": [
    {
     "data": {
      "text/plain": [
       "title                 0\n",
       "company               0\n",
       "location              0\n",
       "link                  0\n",
       "salary              309\n",
       "salary_per_month    670\n",
       "dtype: int64"
      ]
     },
     "execution_count": 20,
     "metadata": {},
     "output_type": "execute_result"
    }
   ],
   "source": [
    "df.isnull().sum()"
   ]
  },
  {
   "cell_type": "code",
   "execution_count": 21,
   "id": "96ff1c1b",
   "metadata": {},
   "outputs": [],
   "source": [
    "df.drop(['salary'],axis=1,inplace = True)"
   ]
  },
  {
   "cell_type": "code",
   "execution_count": 22,
   "id": "b0895391",
   "metadata": {},
   "outputs": [],
   "source": [
    "df['salary_per_month'] = df['salary_per_month'].fillna('Not Available')"
   ]
  },
  {
   "cell_type": "code",
   "execution_count": 23,
   "id": "82177387",
   "metadata": {},
   "outputs": [
    {
     "data": {
      "text/plain": [
       "title               0\n",
       "company             0\n",
       "location            0\n",
       "link                0\n",
       "salary_per_month    0\n",
       "dtype: int64"
      ]
     },
     "execution_count": 23,
     "metadata": {},
     "output_type": "execute_result"
    }
   ],
   "source": [
    "df.isnull().sum()"
   ]
  },
  {
   "cell_type": "code",
   "execution_count": 27,
   "id": "9f1c673e",
   "metadata": {},
   "outputs": [],
   "source": [
    "df = df.reset_index()"
   ]
  },
  {
   "cell_type": "code",
   "execution_count": 28,
   "id": "ffb35e23",
   "metadata": {},
   "outputs": [],
   "source": [
    "df.drop(['index'],axis=1,inplace=True)"
   ]
  },
  {
   "cell_type": "code",
   "execution_count": 29,
   "id": "f772aaa8",
   "metadata": {},
   "outputs": [
    {
     "data": {
      "text/html": [
       "<div>\n",
       "<style scoped>\n",
       "    .dataframe tbody tr th:only-of-type {\n",
       "        vertical-align: middle;\n",
       "    }\n",
       "\n",
       "    .dataframe tbody tr th {\n",
       "        vertical-align: top;\n",
       "    }\n",
       "\n",
       "    .dataframe thead th {\n",
       "        text-align: right;\n",
       "    }\n",
       "</style>\n",
       "<table border=\"1\" class=\"dataframe\">\n",
       "  <thead>\n",
       "    <tr style=\"text-align: right;\">\n",
       "      <th></th>\n",
       "      <th>title</th>\n",
       "      <th>company</th>\n",
       "      <th>location</th>\n",
       "      <th>link</th>\n",
       "      <th>salary_per_month</th>\n",
       "    </tr>\n",
       "  </thead>\n",
       "  <tbody>\n",
       "    <tr>\n",
       "      <th>0</th>\n",
       "      <td>Open AI Developer | 4 to 10 years | PAN India</td>\n",
       "      <td>Capgemini Invent</td>\n",
       "      <td>Gurgaon, Haryana</td>\n",
       "      <td>https://in.indeed.com/rc/clk?jk=afe3d3380b0954...</td>\n",
       "      <td>Not Available</td>\n",
       "    </tr>\n",
       "    <tr>\n",
       "      <th>1</th>\n",
       "      <td>Principal DevOps Engineer</td>\n",
       "      <td>Amplifi Capital</td>\n",
       "      <td>Noida, Uttar Pradesh</td>\n",
       "      <td>https://in.indeed.com/rc/clk?jk=4b54008f752a41...</td>\n",
       "      <td>Not Available</td>\n",
       "    </tr>\n",
       "    <tr>\n",
       "      <th>2</th>\n",
       "      <td>Backend Engineer</td>\n",
       "      <td>iXceed Solutions</td>\n",
       "      <td>Gurgaon, Haryana</td>\n",
       "      <td>https://in.indeed.com/rc/clk?jk=1f1caebce60f4d...</td>\n",
       "      <td>312500.0</td>\n",
       "    </tr>\n",
       "    <tr>\n",
       "      <th>3</th>\n",
       "      <td>IT Developer</td>\n",
       "      <td>Insight Enterprises</td>\n",
       "      <td>Gurgaon, Haryana</td>\n",
       "      <td>https://in.indeed.com/rc/clk?jk=96e9499cfcef11...</td>\n",
       "      <td>Not Available</td>\n",
       "    </tr>\n",
       "    <tr>\n",
       "      <th>4</th>\n",
       "      <td>DevOps Engineer</td>\n",
       "      <td>Shaurya Infosoft PVT. LTD.</td>\n",
       "      <td>Noida, Uttar Pradesh</td>\n",
       "      <td>https://in.indeed.com/rc/clk?jk=e8507fe060ba57...</td>\n",
       "      <td>65000.0</td>\n",
       "    </tr>\n",
       "  </tbody>\n",
       "</table>\n",
       "</div>"
      ],
      "text/plain": [
       "                                           title                     company  \\\n",
       "0  Open AI Developer | 4 to 10 years | PAN India            Capgemini Invent   \n",
       "1                      Principal DevOps Engineer             Amplifi Capital   \n",
       "2                               Backend Engineer            iXceed Solutions   \n",
       "3                                   IT Developer         Insight Enterprises   \n",
       "4                                DevOps Engineer  Shaurya Infosoft PVT. LTD.   \n",
       "\n",
       "               location                                               link  \\\n",
       "0      Gurgaon, Haryana  https://in.indeed.com/rc/clk?jk=afe3d3380b0954...   \n",
       "1  Noida, Uttar Pradesh  https://in.indeed.com/rc/clk?jk=4b54008f752a41...   \n",
       "2      Gurgaon, Haryana  https://in.indeed.com/rc/clk?jk=1f1caebce60f4d...   \n",
       "3      Gurgaon, Haryana  https://in.indeed.com/rc/clk?jk=96e9499cfcef11...   \n",
       "4  Noida, Uttar Pradesh  https://in.indeed.com/rc/clk?jk=e8507fe060ba57...   \n",
       "\n",
       "  salary_per_month  \n",
       "0    Not Available  \n",
       "1    Not Available  \n",
       "2         312500.0  \n",
       "3    Not Available  \n",
       "4          65000.0  "
      ]
     },
     "execution_count": 29,
     "metadata": {},
     "output_type": "execute_result"
    }
   ],
   "source": [
    "df.head()"
   ]
  },
  {
   "cell_type": "code",
   "execution_count": 30,
   "id": "51c72907",
   "metadata": {},
   "outputs": [
    {
     "data": {
      "text/plain": [
       "(856, 5)"
      ]
     },
     "execution_count": 30,
     "metadata": {},
     "output_type": "execute_result"
    }
   ],
   "source": [
    "df.shape"
   ]
  },
  {
   "cell_type": "code",
   "execution_count": 31,
   "id": "174402c5",
   "metadata": {},
   "outputs": [
    {
     "data": {
      "text/plain": [
       "array(['Gurgaon, Haryana', 'Noida, Uttar Pradesh',\n",
       "       'Remote in Noida, Uttar Pradesh', 'Hybrid remote in Delhi, Delhi',\n",
       "       'New Delhi, Delhi', 'Greater Noida, Uttar Pradesh',\n",
       "       'Gurugram, Haryana', 'Hybrid remote in Noida, Uttar Pradesh',\n",
       "       'Remote in New Delhi, Delhi', 'Delhi, Delhi',\n",
       "       'Hybrid remote in New Delhi, Delhi', 'Bhiwadi, Rajasthan',\n",
       "       'Vasant Kunj, Delhi, Delhi',\n",
       "       'Hybrid remote in Gurgaon, Gurugram, Haryana',\n",
       "       'Gautam Budh Nagar, Uttar Pradesh', 'Remote in Gurgaon, Haryana',\n",
       "       'Faridabad, Haryana', 'Remote in Delhi, Delhi',\n",
       "       'Gurgaon, Gurugram, Haryana', 'Hybrid remote in Gurgaon, Haryana',\n",
       "       'Delhi', 'Ghaziabad, Uttar Pradesh', 'Dadri, Uttar Pradesh',\n",
       "       'Okhla, Delhi, Delhi', 'Saket, Delhi, Delhi', 'Saket, Delhi',\n",
       "       'Kalkaji Devi, Delhi', 'Paschim Vihar, Delhi, Delhi',\n",
       "       'Remote in Kalkaji Devi, Delhi', 'Haryana'], dtype=object)"
      ]
     },
     "execution_count": 31,
     "metadata": {},
     "output_type": "execute_result"
    }
   ],
   "source": [
    "df['location'].unique()"
   ]
  },
  {
   "cell_type": "code",
   "execution_count": 32,
   "id": "bc27ecab",
   "metadata": {},
   "outputs": [],
   "source": [
    "\n",
    "df['location'] = df['location'].str.replace('Hybrid remote in ', '', regex=False)\n",
    "df['location'] = df['location'].str.replace('Remote in ', '', regex=False)\n",
    "\n",
    "\n",
    "df['city'] = None\n",
    "df['state'] = None\n",
    "\n",
    "\n",
    "for index, row in df.iterrows():\n",
    "    parts = row['location'].split(', ')\n",
    "    if len(parts) == 2:\n",
    "        df.at[index, 'city'] = parts[0]\n",
    "        df.at[index, 'state'] = parts[1]\n",
    "    elif len(parts) == 1: \n",
    "        df.at[index, 'city'] = parts[0]"
   ]
  },
  {
   "cell_type": "code",
   "execution_count": 33,
   "id": "1343960d",
   "metadata": {},
   "outputs": [
    {
     "data": {
      "text/html": [
       "<div>\n",
       "<style scoped>\n",
       "    .dataframe tbody tr th:only-of-type {\n",
       "        vertical-align: middle;\n",
       "    }\n",
       "\n",
       "    .dataframe tbody tr th {\n",
       "        vertical-align: top;\n",
       "    }\n",
       "\n",
       "    .dataframe thead th {\n",
       "        text-align: right;\n",
       "    }\n",
       "</style>\n",
       "<table border=\"1\" class=\"dataframe\">\n",
       "  <thead>\n",
       "    <tr style=\"text-align: right;\">\n",
       "      <th></th>\n",
       "      <th>title</th>\n",
       "      <th>company</th>\n",
       "      <th>location</th>\n",
       "      <th>link</th>\n",
       "      <th>salary_per_month</th>\n",
       "      <th>city</th>\n",
       "      <th>state</th>\n",
       "    </tr>\n",
       "  </thead>\n",
       "  <tbody>\n",
       "    <tr>\n",
       "      <th>0</th>\n",
       "      <td>Open AI Developer | 4 to 10 years | PAN India</td>\n",
       "      <td>Capgemini Invent</td>\n",
       "      <td>Gurgaon, Haryana</td>\n",
       "      <td>https://in.indeed.com/rc/clk?jk=afe3d3380b0954...</td>\n",
       "      <td>Not Available</td>\n",
       "      <td>Gurgaon</td>\n",
       "      <td>Haryana</td>\n",
       "    </tr>\n",
       "    <tr>\n",
       "      <th>1</th>\n",
       "      <td>Principal DevOps Engineer</td>\n",
       "      <td>Amplifi Capital</td>\n",
       "      <td>Noida, Uttar Pradesh</td>\n",
       "      <td>https://in.indeed.com/rc/clk?jk=4b54008f752a41...</td>\n",
       "      <td>Not Available</td>\n",
       "      <td>Noida</td>\n",
       "      <td>Uttar Pradesh</td>\n",
       "    </tr>\n",
       "    <tr>\n",
       "      <th>2</th>\n",
       "      <td>Backend Engineer</td>\n",
       "      <td>iXceed Solutions</td>\n",
       "      <td>Gurgaon, Haryana</td>\n",
       "      <td>https://in.indeed.com/rc/clk?jk=1f1caebce60f4d...</td>\n",
       "      <td>312500.0</td>\n",
       "      <td>Gurgaon</td>\n",
       "      <td>Haryana</td>\n",
       "    </tr>\n",
       "    <tr>\n",
       "      <th>3</th>\n",
       "      <td>IT Developer</td>\n",
       "      <td>Insight Enterprises</td>\n",
       "      <td>Gurgaon, Haryana</td>\n",
       "      <td>https://in.indeed.com/rc/clk?jk=96e9499cfcef11...</td>\n",
       "      <td>Not Available</td>\n",
       "      <td>Gurgaon</td>\n",
       "      <td>Haryana</td>\n",
       "    </tr>\n",
       "    <tr>\n",
       "      <th>4</th>\n",
       "      <td>DevOps Engineer</td>\n",
       "      <td>Shaurya Infosoft PVT. LTD.</td>\n",
       "      <td>Noida, Uttar Pradesh</td>\n",
       "      <td>https://in.indeed.com/rc/clk?jk=e8507fe060ba57...</td>\n",
       "      <td>65000.0</td>\n",
       "      <td>Noida</td>\n",
       "      <td>Uttar Pradesh</td>\n",
       "    </tr>\n",
       "  </tbody>\n",
       "</table>\n",
       "</div>"
      ],
      "text/plain": [
       "                                           title                     company  \\\n",
       "0  Open AI Developer | 4 to 10 years | PAN India            Capgemini Invent   \n",
       "1                      Principal DevOps Engineer             Amplifi Capital   \n",
       "2                               Backend Engineer            iXceed Solutions   \n",
       "3                                   IT Developer         Insight Enterprises   \n",
       "4                                DevOps Engineer  Shaurya Infosoft PVT. LTD.   \n",
       "\n",
       "               location                                               link  \\\n",
       "0      Gurgaon, Haryana  https://in.indeed.com/rc/clk?jk=afe3d3380b0954...   \n",
       "1  Noida, Uttar Pradesh  https://in.indeed.com/rc/clk?jk=4b54008f752a41...   \n",
       "2      Gurgaon, Haryana  https://in.indeed.com/rc/clk?jk=1f1caebce60f4d...   \n",
       "3      Gurgaon, Haryana  https://in.indeed.com/rc/clk?jk=96e9499cfcef11...   \n",
       "4  Noida, Uttar Pradesh  https://in.indeed.com/rc/clk?jk=e8507fe060ba57...   \n",
       "\n",
       "  salary_per_month     city          state  \n",
       "0    Not Available  Gurgaon        Haryana  \n",
       "1    Not Available    Noida  Uttar Pradesh  \n",
       "2         312500.0  Gurgaon        Haryana  \n",
       "3    Not Available  Gurgaon        Haryana  \n",
       "4          65000.0    Noida  Uttar Pradesh  "
      ]
     },
     "execution_count": 33,
     "metadata": {},
     "output_type": "execute_result"
    }
   ],
   "source": [
    "df.head()"
   ]
  },
  {
   "cell_type": "code",
   "execution_count": 34,
   "id": "875366c9",
   "metadata": {},
   "outputs": [],
   "source": [
    "df.drop(['location'],axis=1,inplace=True)"
   ]
  },
  {
   "cell_type": "code",
   "execution_count": 35,
   "id": "5e9750c1",
   "metadata": {},
   "outputs": [
    {
     "data": {
      "text/html": [
       "<div>\n",
       "<style scoped>\n",
       "    .dataframe tbody tr th:only-of-type {\n",
       "        vertical-align: middle;\n",
       "    }\n",
       "\n",
       "    .dataframe tbody tr th {\n",
       "        vertical-align: top;\n",
       "    }\n",
       "\n",
       "    .dataframe thead th {\n",
       "        text-align: right;\n",
       "    }\n",
       "</style>\n",
       "<table border=\"1\" class=\"dataframe\">\n",
       "  <thead>\n",
       "    <tr style=\"text-align: right;\">\n",
       "      <th></th>\n",
       "      <th>title</th>\n",
       "      <th>company</th>\n",
       "      <th>link</th>\n",
       "      <th>salary_per_month</th>\n",
       "      <th>city</th>\n",
       "      <th>state</th>\n",
       "    </tr>\n",
       "  </thead>\n",
       "  <tbody>\n",
       "    <tr>\n",
       "      <th>0</th>\n",
       "      <td>Open AI Developer | 4 to 10 years | PAN India</td>\n",
       "      <td>Capgemini Invent</td>\n",
       "      <td>https://in.indeed.com/rc/clk?jk=afe3d3380b0954...</td>\n",
       "      <td>Not Available</td>\n",
       "      <td>Gurgaon</td>\n",
       "      <td>Haryana</td>\n",
       "    </tr>\n",
       "    <tr>\n",
       "      <th>1</th>\n",
       "      <td>Principal DevOps Engineer</td>\n",
       "      <td>Amplifi Capital</td>\n",
       "      <td>https://in.indeed.com/rc/clk?jk=4b54008f752a41...</td>\n",
       "      <td>Not Available</td>\n",
       "      <td>Noida</td>\n",
       "      <td>Uttar Pradesh</td>\n",
       "    </tr>\n",
       "    <tr>\n",
       "      <th>2</th>\n",
       "      <td>Backend Engineer</td>\n",
       "      <td>iXceed Solutions</td>\n",
       "      <td>https://in.indeed.com/rc/clk?jk=1f1caebce60f4d...</td>\n",
       "      <td>312500.0</td>\n",
       "      <td>Gurgaon</td>\n",
       "      <td>Haryana</td>\n",
       "    </tr>\n",
       "    <tr>\n",
       "      <th>3</th>\n",
       "      <td>IT Developer</td>\n",
       "      <td>Insight Enterprises</td>\n",
       "      <td>https://in.indeed.com/rc/clk?jk=96e9499cfcef11...</td>\n",
       "      <td>Not Available</td>\n",
       "      <td>Gurgaon</td>\n",
       "      <td>Haryana</td>\n",
       "    </tr>\n",
       "    <tr>\n",
       "      <th>4</th>\n",
       "      <td>DevOps Engineer</td>\n",
       "      <td>Shaurya Infosoft PVT. LTD.</td>\n",
       "      <td>https://in.indeed.com/rc/clk?jk=e8507fe060ba57...</td>\n",
       "      <td>65000.0</td>\n",
       "      <td>Noida</td>\n",
       "      <td>Uttar Pradesh</td>\n",
       "    </tr>\n",
       "  </tbody>\n",
       "</table>\n",
       "</div>"
      ],
      "text/plain": [
       "                                           title                     company  \\\n",
       "0  Open AI Developer | 4 to 10 years | PAN India            Capgemini Invent   \n",
       "1                      Principal DevOps Engineer             Amplifi Capital   \n",
       "2                               Backend Engineer            iXceed Solutions   \n",
       "3                                   IT Developer         Insight Enterprises   \n",
       "4                                DevOps Engineer  Shaurya Infosoft PVT. LTD.   \n",
       "\n",
       "                                                link salary_per_month  \\\n",
       "0  https://in.indeed.com/rc/clk?jk=afe3d3380b0954...    Not Available   \n",
       "1  https://in.indeed.com/rc/clk?jk=4b54008f752a41...    Not Available   \n",
       "2  https://in.indeed.com/rc/clk?jk=1f1caebce60f4d...         312500.0   \n",
       "3  https://in.indeed.com/rc/clk?jk=96e9499cfcef11...    Not Available   \n",
       "4  https://in.indeed.com/rc/clk?jk=e8507fe060ba57...          65000.0   \n",
       "\n",
       "      city          state  \n",
       "0  Gurgaon        Haryana  \n",
       "1    Noida  Uttar Pradesh  \n",
       "2  Gurgaon        Haryana  \n",
       "3  Gurgaon        Haryana  \n",
       "4    Noida  Uttar Pradesh  "
      ]
     },
     "execution_count": 35,
     "metadata": {},
     "output_type": "execute_result"
    }
   ],
   "source": [
    "df.head()"
   ]
  },
  {
   "cell_type": "code",
   "execution_count": null,
   "id": "c0585a1e",
   "metadata": {},
   "outputs": [],
   "source": [
    "# df.to_csv('cleaned_data.csv', index=False)"
   ]
  },
  {
   "cell_type": "code",
   "execution_count": 36,
   "id": "8f223be5",
   "metadata": {},
   "outputs": [
    {
     "data": {
      "text/plain": [
       "title                0\n",
       "company              0\n",
       "link                 0\n",
       "salary_per_month     0\n",
       "city                17\n",
       "state               28\n",
       "dtype: int64"
      ]
     },
     "execution_count": 36,
     "metadata": {},
     "output_type": "execute_result"
    }
   ],
   "source": [
    "df.isnull().sum()"
   ]
  },
  {
   "cell_type": "code",
   "execution_count": 38,
   "id": "d8e16123",
   "metadata": {},
   "outputs": [],
   "source": [
    "df = df.dropna().reset_index()"
   ]
  },
  {
   "cell_type": "code",
   "execution_count": 40,
   "id": "458e9605",
   "metadata": {},
   "outputs": [
    {
     "data": {
      "text/html": [
       "<div>\n",
       "<style scoped>\n",
       "    .dataframe tbody tr th:only-of-type {\n",
       "        vertical-align: middle;\n",
       "    }\n",
       "\n",
       "    .dataframe tbody tr th {\n",
       "        vertical-align: top;\n",
       "    }\n",
       "\n",
       "    .dataframe thead th {\n",
       "        text-align: right;\n",
       "    }\n",
       "</style>\n",
       "<table border=\"1\" class=\"dataframe\">\n",
       "  <thead>\n",
       "    <tr style=\"text-align: right;\">\n",
       "      <th></th>\n",
       "      <th>index</th>\n",
       "      <th>title</th>\n",
       "      <th>company</th>\n",
       "      <th>link</th>\n",
       "      <th>salary_per_month</th>\n",
       "      <th>city</th>\n",
       "      <th>state</th>\n",
       "    </tr>\n",
       "  </thead>\n",
       "  <tbody>\n",
       "    <tr>\n",
       "      <th>0</th>\n",
       "      <td>0</td>\n",
       "      <td>Open AI Developer | 4 to 10 years | PAN India</td>\n",
       "      <td>Capgemini Invent</td>\n",
       "      <td>https://in.indeed.com/rc/clk?jk=afe3d3380b0954...</td>\n",
       "      <td>Not Available</td>\n",
       "      <td>Gurgaon</td>\n",
       "      <td>Haryana</td>\n",
       "    </tr>\n",
       "    <tr>\n",
       "      <th>1</th>\n",
       "      <td>1</td>\n",
       "      <td>Principal DevOps Engineer</td>\n",
       "      <td>Amplifi Capital</td>\n",
       "      <td>https://in.indeed.com/rc/clk?jk=4b54008f752a41...</td>\n",
       "      <td>Not Available</td>\n",
       "      <td>Noida</td>\n",
       "      <td>Uttar Pradesh</td>\n",
       "    </tr>\n",
       "    <tr>\n",
       "      <th>2</th>\n",
       "      <td>2</td>\n",
       "      <td>Backend Engineer</td>\n",
       "      <td>iXceed Solutions</td>\n",
       "      <td>https://in.indeed.com/rc/clk?jk=1f1caebce60f4d...</td>\n",
       "      <td>312500.0</td>\n",
       "      <td>Gurgaon</td>\n",
       "      <td>Haryana</td>\n",
       "    </tr>\n",
       "    <tr>\n",
       "      <th>3</th>\n",
       "      <td>3</td>\n",
       "      <td>IT Developer</td>\n",
       "      <td>Insight Enterprises</td>\n",
       "      <td>https://in.indeed.com/rc/clk?jk=96e9499cfcef11...</td>\n",
       "      <td>Not Available</td>\n",
       "      <td>Gurgaon</td>\n",
       "      <td>Haryana</td>\n",
       "    </tr>\n",
       "    <tr>\n",
       "      <th>4</th>\n",
       "      <td>4</td>\n",
       "      <td>DevOps Engineer</td>\n",
       "      <td>Shaurya Infosoft PVT. LTD.</td>\n",
       "      <td>https://in.indeed.com/rc/clk?jk=e8507fe060ba57...</td>\n",
       "      <td>65000.0</td>\n",
       "      <td>Noida</td>\n",
       "      <td>Uttar Pradesh</td>\n",
       "    </tr>\n",
       "  </tbody>\n",
       "</table>\n",
       "</div>"
      ],
      "text/plain": [
       "   index                                          title  \\\n",
       "0      0  Open AI Developer | 4 to 10 years | PAN India   \n",
       "1      1                      Principal DevOps Engineer   \n",
       "2      2                               Backend Engineer   \n",
       "3      3                                   IT Developer   \n",
       "4      4                                DevOps Engineer   \n",
       "\n",
       "                      company  \\\n",
       "0            Capgemini Invent   \n",
       "1             Amplifi Capital   \n",
       "2            iXceed Solutions   \n",
       "3         Insight Enterprises   \n",
       "4  Shaurya Infosoft PVT. LTD.   \n",
       "\n",
       "                                                link salary_per_month  \\\n",
       "0  https://in.indeed.com/rc/clk?jk=afe3d3380b0954...    Not Available   \n",
       "1  https://in.indeed.com/rc/clk?jk=4b54008f752a41...    Not Available   \n",
       "2  https://in.indeed.com/rc/clk?jk=1f1caebce60f4d...         312500.0   \n",
       "3  https://in.indeed.com/rc/clk?jk=96e9499cfcef11...    Not Available   \n",
       "4  https://in.indeed.com/rc/clk?jk=e8507fe060ba57...          65000.0   \n",
       "\n",
       "      city          state  \n",
       "0  Gurgaon        Haryana  \n",
       "1    Noida  Uttar Pradesh  \n",
       "2  Gurgaon        Haryana  \n",
       "3  Gurgaon        Haryana  \n",
       "4    Noida  Uttar Pradesh  "
      ]
     },
     "execution_count": 40,
     "metadata": {},
     "output_type": "execute_result"
    }
   ],
   "source": [
    "df.head()"
   ]
  },
  {
   "cell_type": "code",
   "execution_count": 41,
   "id": "8ee6c1fb",
   "metadata": {},
   "outputs": [
    {
     "data": {
      "text/plain": [
       "index               0\n",
       "title               0\n",
       "company             0\n",
       "link                0\n",
       "salary_per_month    0\n",
       "city                0\n",
       "state               0\n",
       "dtype: int64"
      ]
     },
     "execution_count": 41,
     "metadata": {},
     "output_type": "execute_result"
    }
   ],
   "source": [
    "df.isnull().sum()"
   ]
  },
  {
   "cell_type": "code",
   "execution_count": 42,
   "id": "e639f596",
   "metadata": {},
   "outputs": [],
   "source": [
    "df.drop(['index'],axis=1,inplace=True)"
   ]
  },
  {
   "cell_type": "code",
   "execution_count": 43,
   "id": "0f983ecb",
   "metadata": {},
   "outputs": [
    {
     "data": {
      "text/html": [
       "<div>\n",
       "<style scoped>\n",
       "    .dataframe tbody tr th:only-of-type {\n",
       "        vertical-align: middle;\n",
       "    }\n",
       "\n",
       "    .dataframe tbody tr th {\n",
       "        vertical-align: top;\n",
       "    }\n",
       "\n",
       "    .dataframe thead th {\n",
       "        text-align: right;\n",
       "    }\n",
       "</style>\n",
       "<table border=\"1\" class=\"dataframe\">\n",
       "  <thead>\n",
       "    <tr style=\"text-align: right;\">\n",
       "      <th></th>\n",
       "      <th>title</th>\n",
       "      <th>company</th>\n",
       "      <th>link</th>\n",
       "      <th>salary_per_month</th>\n",
       "      <th>city</th>\n",
       "      <th>state</th>\n",
       "    </tr>\n",
       "  </thead>\n",
       "  <tbody>\n",
       "    <tr>\n",
       "      <th>0</th>\n",
       "      <td>Open AI Developer | 4 to 10 years | PAN India</td>\n",
       "      <td>Capgemini Invent</td>\n",
       "      <td>https://in.indeed.com/rc/clk?jk=afe3d3380b0954...</td>\n",
       "      <td>Not Available</td>\n",
       "      <td>Gurgaon</td>\n",
       "      <td>Haryana</td>\n",
       "    </tr>\n",
       "    <tr>\n",
       "      <th>1</th>\n",
       "      <td>Principal DevOps Engineer</td>\n",
       "      <td>Amplifi Capital</td>\n",
       "      <td>https://in.indeed.com/rc/clk?jk=4b54008f752a41...</td>\n",
       "      <td>Not Available</td>\n",
       "      <td>Noida</td>\n",
       "      <td>Uttar Pradesh</td>\n",
       "    </tr>\n",
       "    <tr>\n",
       "      <th>2</th>\n",
       "      <td>Backend Engineer</td>\n",
       "      <td>iXceed Solutions</td>\n",
       "      <td>https://in.indeed.com/rc/clk?jk=1f1caebce60f4d...</td>\n",
       "      <td>312500.0</td>\n",
       "      <td>Gurgaon</td>\n",
       "      <td>Haryana</td>\n",
       "    </tr>\n",
       "    <tr>\n",
       "      <th>3</th>\n",
       "      <td>IT Developer</td>\n",
       "      <td>Insight Enterprises</td>\n",
       "      <td>https://in.indeed.com/rc/clk?jk=96e9499cfcef11...</td>\n",
       "      <td>Not Available</td>\n",
       "      <td>Gurgaon</td>\n",
       "      <td>Haryana</td>\n",
       "    </tr>\n",
       "    <tr>\n",
       "      <th>4</th>\n",
       "      <td>DevOps Engineer</td>\n",
       "      <td>Shaurya Infosoft PVT. LTD.</td>\n",
       "      <td>https://in.indeed.com/rc/clk?jk=e8507fe060ba57...</td>\n",
       "      <td>65000.0</td>\n",
       "      <td>Noida</td>\n",
       "      <td>Uttar Pradesh</td>\n",
       "    </tr>\n",
       "  </tbody>\n",
       "</table>\n",
       "</div>"
      ],
      "text/plain": [
       "                                           title                     company  \\\n",
       "0  Open AI Developer | 4 to 10 years | PAN India            Capgemini Invent   \n",
       "1                      Principal DevOps Engineer             Amplifi Capital   \n",
       "2                               Backend Engineer            iXceed Solutions   \n",
       "3                                   IT Developer         Insight Enterprises   \n",
       "4                                DevOps Engineer  Shaurya Infosoft PVT. LTD.   \n",
       "\n",
       "                                                link salary_per_month  \\\n",
       "0  https://in.indeed.com/rc/clk?jk=afe3d3380b0954...    Not Available   \n",
       "1  https://in.indeed.com/rc/clk?jk=4b54008f752a41...    Not Available   \n",
       "2  https://in.indeed.com/rc/clk?jk=1f1caebce60f4d...         312500.0   \n",
       "3  https://in.indeed.com/rc/clk?jk=96e9499cfcef11...    Not Available   \n",
       "4  https://in.indeed.com/rc/clk?jk=e8507fe060ba57...          65000.0   \n",
       "\n",
       "      city          state  \n",
       "0  Gurgaon        Haryana  \n",
       "1    Noida  Uttar Pradesh  \n",
       "2  Gurgaon        Haryana  \n",
       "3  Gurgaon        Haryana  \n",
       "4    Noida  Uttar Pradesh  "
      ]
     },
     "execution_count": 43,
     "metadata": {},
     "output_type": "execute_result"
    }
   ],
   "source": [
    "df.head()"
   ]
  },
  {
   "cell_type": "code",
   "execution_count": 44,
   "id": "8c5a8d16",
   "metadata": {},
   "outputs": [],
   "source": [
    "df.to_csv('cleaned_data.csv', index=False)"
   ]
  },
  {
   "cell_type": "code",
   "execution_count": 45,
   "id": "44cf3442",
   "metadata": {},
   "outputs": [
    {
     "data": {
      "text/plain": [
       "(828, 6)"
      ]
     },
     "execution_count": 45,
     "metadata": {},
     "output_type": "execute_result"
    }
   ],
   "source": [
    "df.shape"
   ]
  },
  {
   "cell_type": "code",
   "execution_count": null,
   "id": "742d1a25",
   "metadata": {},
   "outputs": [],
   "source": []
  }
 ],
 "metadata": {
  "kernelspec": {
   "display_name": "Python 3 (ipykernel)",
   "language": "python",
   "name": "python3"
  },
  "language_info": {
   "codemirror_mode": {
    "name": "ipython",
    "version": 3
   },
   "file_extension": ".py",
   "mimetype": "text/x-python",
   "name": "python",
   "nbconvert_exporter": "python",
   "pygments_lexer": "ipython3",
   "version": "3.11.5"
  }
 },
 "nbformat": 4,
 "nbformat_minor": 5
}
